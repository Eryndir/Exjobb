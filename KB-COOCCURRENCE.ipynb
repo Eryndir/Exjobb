{
 "cells": [
  {
   "cell_type": "code",
   "execution_count": 41,
   "metadata": {},
   "outputs": [],
   "source": [
    "import os\n",
    "import multiprocessing\n",
    "\n",
    "from json import loads\n",
    "\n",
    "# from time import sleep\n",
    "import pandas as pd\n",
    "import kblab \n",
    "import math\n",
    "from pandas.core.frame import DataFrame\n",
    "from tqdm import tqdm\n",
    "from urllib3.util import Retry\n",
    "from urllib3 import PoolManager, make_headers\n",
    "from kblab import Archive\n",
    "from itertools import product\n",
    "import matplotlib.pyplot as plt\n",
    "import numpy as np\n",
    "kblab.VERIFY_CA=False"
   ]
  },
  {
   "cell_type": "code",
   "execution_count": 42,
   "metadata": {},
   "outputs": [],
   "source": [
    "dfBirdCount1920 = pd.read_feather(f\"data/dfCount_1920s.feather\")\n",
    "dfBirdCount1930 = pd.read_feather(f\"data/dfCount_1930s.feather\")\n",
    "dfBirdCount2010 = pd.read_feather(f\"data/dfCount_2010s.feather\")\n",
    "\n",
    "dfYearCount1920 = pd.read_feather(f\"data/dfYearCount_1920s.feather\")\n",
    "dfYearCount1930 = pd.read_feather(f\"data/dfYearCount_1930s.feather\")\n",
    "dfYearCount2010 = pd.read_feather(f\"data/dfYearCount_2010s.feather\")\n",
    "\n",
    "\n",
    "df1920 = pd.read_feather(f\"data/df_co_1920s_fågel.feather\")\n",
    "df1930 = pd.read_feather(f\"data/df_co_1930s_fågel.feather\")\n",
    "df2010 = pd.read_feather(f\"data/df_co_2010s_fågel.feather\")\n",
    "\n",
    "dfCount1920 = pd.read_feather(f\"data/df_coWord_1920s_fågel.feather\")\n",
    "dfCount1930 = pd.read_feather(f\"data/df_coWord_1930s_fågel.feather\")\n",
    "dfCount2010 = pd.read_feather(f\"data/df_coWord_2010s_fågel.feather\")"
   ]
  },
  {
   "cell_type": "code",
   "execution_count": 43,
   "metadata": {},
   "outputs": [],
   "source": [
    "from transformers import AutoModel,pipeline\n",
    "\n",
    "ner = pipeline('ner', model='KB/bert-base-swedish-cased-ner', tokenizer='KB/bert-base-swedish-cased-ner')\n",
    "pos = pipeline(\"token-classification\", model=\"KBLab/bert-base-swedish-cased-pos\", tokenizer=\"KBLab/bert-base-swedish-cased-pos\")\n",
    "sentiment = pipeline(\"text-classification\", model=\"KBLab/robust-swedish-sentiment-multiclass\")\n",
    "\n",
    "\n"
   ]
  },
  {
   "cell_type": "code",
   "execution_count": 144,
   "metadata": {},
   "outputs": [],
   "source": [
    "tmp = df2010.T.sum()\n",
    "dfSorted = df2010.T[tmp.sort_values(ascending=False).index[:500]]\n"
   ]
  },
  {
   "cell_type": "code",
   "execution_count": 145,
   "metadata": {},
   "outputs": [
    {
     "data": {
      "text/plain": [
       "Index(['2010', '2011', '2012', '2013', '2014', '2015', '2016', '2017', '2018',\n",
       "       '2019', '2020'],\n",
       "      dtype='object')"
      ]
     },
     "execution_count": 145,
     "metadata": {},
     "output_type": "execute_result"
    }
   ],
   "source": [
    "dfSorted.index"
   ]
  },
  {
   "cell_type": "code",
   "execution_count": 146,
   "metadata": {},
   "outputs": [],
   "source": [
    "dfSorted = dfSorted.sum()"
   ]
  },
  {
   "cell_type": "code",
   "execution_count": 147,
   "metadata": {},
   "outputs": [],
   "source": [
    "goodWords = []\n",
    "lmao = dfSorted.T.index.values\n",
    "for idx, i in enumerate(lmao):\n",
    "  posValues = pos(i)\n",
    "  entity = posValues[0][\"entity\"]\n",
    "\n",
    "  if entity == \"VB\":\n",
    "   goodWords.append(posValues)"
   ]
  },
  {
   "cell_type": "code",
   "execution_count": 152,
   "metadata": {},
   "outputs": [
    {
     "name": "stdout",
     "output_type": "stream",
     "text": [
      "är\n",
      "har\n",
      "var\n",
      "na\n",
      "kan\n",
      "kvittrar\n",
      "kvitt\n",
      "finns\n",
      "hälsat\n",
      "hälsa\n",
      "ska\n",
      "sjunger\n",
      "får\n",
      "vara\n",
      "viskar\n",
      "kommer\n",
      "säger\n",
      "flytt\n",
      "flyger\n",
      "hade\n",
      "gör\n",
      "blir\n",
      "se\n",
      "ser\n",
      "ha\n",
      "vill\n",
      "går\n",
      "nas\n",
      "skulle\n",
      "få\n",
      "tar\n",
      "fick\n",
      "blev\n",
      "na\n",
      "na\n",
      "lyssnar\n",
      "tystnar\n",
      "flyga\n",
      "bo\n",
      "åt\n",
      "kom\n",
      "hör\n",
      "ger\n",
      "ta\n",
      "kunde\n",
      "titta\n",
      "står\n",
      "sjöng\n",
      "bli\n",
      "varit\n",
      "höra\n",
      "väcks\n",
      "fått\n",
      "mata\n",
      "mat\n",
      "berättar\n",
      "vet\n",
      "gjorde\n",
      "visar\n",
      "sitter\n",
      "ar\n",
      "sjunga\n",
      "måste\n",
      "äter\n",
      "ligger\n",
      "blivit\n",
      "lever\n",
      "vrider\n",
      "göra\n",
      "flög\n",
      "håller\n",
      "handlar\n",
      "lyssna\n",
      "skriver\n",
      "komma\n",
      "sken\n",
      "kunna\n",
      "hörs\n",
      "leva\n",
      "sett\n",
      "tog\n",
      "ge\n",
      "såg\n",
      "låter\n",
      "kallas\n",
      "hittar\n",
      "lär\n",
      "gå\n",
      "heter\n",
      "ville\n",
      "satt\n",
      "börjar\n",
      "färdas\n",
      "dör\n",
      "gick\n",
      "brukar\n",
      "lägger\n",
      "räkna\n",
      "gäller\n",
      "skall\n",
      "följer\n",
      "flyttar\n"
     ]
    }
   ],
   "source": [
    "goodWords2 = []\n",
    "for w in goodWords:\n",
    "  if len(w) > 1:\n",
    "    tmp3 = w[0][\"word\"] + w[1][\"word\"][2:]\n",
    "    print(tmp3)\n",
    "    goodWords2.append(tmp3)\n",
    "  print(w[0][\"word\"])\n",
    "  goodWords2.append(w[0][\"word\"])"
   ]
  },
  {
   "cell_type": "code",
   "execution_count": 153,
   "metadata": {},
   "outputs": [
    {
     "name": "stdout",
     "output_type": "stream",
     "text": [
      "var\n",
      "vara\n",
      "varit\n",
      "är\n",
      "nas\n",
      "na\n",
      "har\n",
      "ha\n",
      "hade\n",
      "kunna\n",
      "kan\n",
      "ska\n",
      "skulle\n"
     ]
    }
   ],
   "source": [
    "commonWords = [\"var\", \"vara\",\"varit\", \"är\", \"nas\", \"na\", \"har\", \"ha\", \"hade\", \"kunna\", \"kan\", \"ska\",\"skulle\"]\n",
    "\n",
    "for c in commonWords:\n",
    "  print(c)\n",
    "  goodWords2.remove(c)\n",
    "\n",
    "tmp4 = dfSorted.filter(goodWords2)"
   ]
  },
  {
   "cell_type": "code",
   "execution_count": 154,
   "metadata": {},
   "outputs": [
    {
     "data": {
      "text/plain": [
       "kvittrar    372.0\n",
       "finns       346.0\n",
       "hälsat      323.0\n",
       "sjunger     305.0\n",
       "får         287.0\n",
       "viskar      263.0\n",
       "kommer      249.0\n",
       "säger       242.0\n",
       "flytt       239.0\n",
       "flyger      228.0\n",
       "dtype: float64"
      ]
     },
     "execution_count": 154,
     "metadata": {},
     "output_type": "execute_result"
    }
   ],
   "source": [
    "tmp4[:10]"
   ]
  }
 ],
 "metadata": {
  "kernelspec": {
   "display_name": "base",
   "language": "python",
   "name": "python3"
  },
  "language_info": {
   "codemirror_mode": {
    "name": "ipython",
    "version": 3
   },
   "file_extension": ".py",
   "mimetype": "text/x-python",
   "name": "python",
   "nbconvert_exporter": "python",
   "pygments_lexer": "ipython3",
   "version": "3.10.9"
  }
 },
 "nbformat": 4,
 "nbformat_minor": 2
}
