{
 "cells": [
  {
   "cell_type": "markdown",
   "metadata": {},
   "source": [
    "Imports"
   ]
  },
  {
   "cell_type": "code",
   "execution_count": 9,
   "metadata": {},
   "outputs": [],
   "source": [
    "import kblab, json\n",
    "import os\n",
    "import multiprocessing\n",
    "import requests\n",
    "import urllib3\n",
    "import pandas as pd\n",
    "from pandas.core.frame import DataFrame\n",
    "from requests.auth import HTTPBasicAuth\n",
    "from kblab import Archive\n",
    "from kblab.utils import flerge\n",
    "from json import loads\n",
    "from tqdm import tqdm\n",
    "from urllib3.util import Retry\n",
    "from urllib3 import PoolManager, make_headers\n",
    "from itertools import product\n",
    "kblab.VERIFY_CA=False"
   ]
  },
  {
   "cell_type": "code",
   "execution_count": 10,
   "metadata": {},
   "outputs": [],
   "source": [
    "with open('api_cred', 'r') as file:\n",
    "    pw = file.read().replace('\\n', '')\n",
    "\n",
    "archive = Archive(\"https://betalab.kb.se\", auth=(\"demo\", pw))\n"
   ]
  },
  {
   "cell_type": "code",
   "execution_count": 11,
   "metadata": {},
   "outputs": [],
   "source": [
    "def get_metadata(dark_id, headers):\n",
    "  http = PoolManager(cert_reqs='CERT_NONE')\n",
    "  kblab.VERIFY_CA=False\n",
    "  try:\n",
    "      print(f\"trying https://betalab.kb.se/{dark_id}/meta.json\")\n",
    "      meta_json = http.request(\n",
    "          \"GET\",\n",
    "          f\"https://betalab.kb.se/{dark_id}/meta.json\",\n",
    "          headers=headers,\n",
    "          retries=Retry(connect=5, read=4, redirect=5, backoff_factor=0.02),\n",
    "      )\n",
    "\n",
    "      meta_json = loads(meta_json.data.decode(\"utf-8\"))\n",
    "      meta_json[\"dark_id\"] = dark_id\n",
    "      return meta_json\n",
    "\n",
    "  except:\n",
    "      print(\"failed getting\")\n",
    "      return {\n",
    "          \"dark_id\": dark_id,\n",
    "          \"title\": \"failed\",\n",
    "          \"year\": \"failed\",\n",
    "        }"
   ]
  },
  {
   "cell_type": "code",
   "execution_count": 12,
   "metadata": {},
   "outputs": [],
   "source": [
    "archive.search('tags: \"issue\"')\n",
    "\n",
    "meta_json_list = []\n",
    "content_json_list = []\n",
    "for package_id in archive.search('tags: \"issue\"', max=2):\n",
    "    package = archive.get(package_id)\n",
    "    lmao = flerge(package)\n",
    "\n",
    "    if \"meta.json\" in package:\n",
    "        meta_json = json.load(package.get_raw(\"meta.json\"))\n",
    "        meta_json_list.append(meta_json)\n",
    "    if \"content.json\" in package:\n",
    "        content_json = json.load(package.get_raw(\"content.json\"))\n",
    "        content_json_list.append(content_json)\n",
    "\n",
    "\n"
   ]
  },
  {
   "cell_type": "code",
   "execution_count": null,
   "metadata": {},
   "outputs": [],
   "source": [
    "content_json_list = content_json_list[0]\n",
    "lmao = [x[\"content\"] for x in content_json_list]\n",
    "lmao"
   ]
  },
  {
   "cell_type": "code",
   "execution_count": 14,
   "metadata": {},
   "outputs": [
    {
     "data": {
      "text/plain": [
       "['«•» Hemb&rnin ', 'Daglig morgontidning ^']"
      ]
     },
     "execution_count": 14,
     "metadata": {},
     "output_type": "execute_result"
    }
   ],
   "source": [
    "content = [x[0][\"content\"] for x in content_json_list] #content_json_list[0][0][\"content\"]\n",
    "content"
   ]
  },
  {
   "cell_type": "code",
   "execution_count": 15,
   "metadata": {},
   "outputs": [
    {
     "data": {
      "text/plain": [
       "[{'created': '1905-01-05',\n",
       "  'year': '1905',\n",
       "  'edition': '0',\n",
       "  'issue': '12474B',\n",
       "  'title': 'DAGENS NYHETER  1905-01-05'},\n",
       " {'created': '1905-02-17',\n",
       "  'year': '1905',\n",
       "  'edition': '0',\n",
       "  'issue': '12516A',\n",
       "  'title': 'DAGENS NYHETER  1905-02-17'}]"
      ]
     },
     "execution_count": 15,
     "metadata": {},
     "output_type": "execute_result"
    }
   ],
   "source": [
    "\n",
    "meta_json_list"
   ]
  },
  {
   "cell_type": "code",
   "execution_count": null,
   "metadata": {},
   "outputs": [],
   "source": []
  }
 ],
 "metadata": {
  "kernelspec": {
   "display_name": "base",
   "language": "python",
   "name": "python3"
  },
  "language_info": {
   "codemirror_mode": {
    "name": "ipython",
    "version": 3
   },
   "file_extension": ".py",
   "mimetype": "text/x-python",
   "name": "python",
   "nbconvert_exporter": "python",
   "pygments_lexer": "ipython3",
   "version": "3.10.9"
  }
 },
 "nbformat": 4,
 "nbformat_minor": 2
}
